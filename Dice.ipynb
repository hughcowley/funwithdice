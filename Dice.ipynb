{
 "cells": [
  {
   "cell_type": "markdown",
   "metadata": {},
   "source": [
    "# Header"
   ]
  },
  {
   "cell_type": "code",
   "execution_count": 1,
   "metadata": {},
   "outputs": [],
   "source": [
    "# import modules\n",
    "\n",
    "import itertools\n",
    "import numpy as np\n",
    "import pandas as pd\n",
    "import matplotlib.pyplot as plt\n",
    "import seaborn as sns\n",
    "\n",
    "sns.set()\n",
    "%matplotlib inline"
   ]
  },
  {
   "cell_type": "markdown",
   "metadata": {},
   "source": [
    "1. Write a function to create a list of results for rolling a die with a given number of sides"
   ]
  },
  {
   "cell_type": "code",
   "execution_count": 2,
   "metadata": {},
   "outputs": [],
   "source": [
    "def dice_values(a=6):\n",
    "    \"\"\"\n",
    "    Return a list of all results for rolling a die with a given number of sides\n",
    "    \n",
    "    Parameters\n",
    "    ----------\n",
    "    a: int\n",
    "        Number of sides of the die; integer greater than zero\n",
    "        Default = 6\n",
    "    \n",
    "    Returns\n",
    "    -------\n",
    "    result_list: list\n",
    "        List of all possible results for rolling the die\n",
    "    \"\"\"\n",
    "    result_list = []\n",
    "    for x in range(a):\n",
    "        result_list.append(x+1)\n",
    "    return result_list"
   ]
  },
  {
   "cell_type": "code",
   "execution_count": 3,
   "metadata": {},
   "outputs": [
    {
     "data": {
      "text/plain": [
       "[1, 2, 3, 4, 5, 6]"
      ]
     },
     "execution_count": 3,
     "metadata": {},
     "output_type": "execute_result"
    }
   ],
   "source": [
    "dice_values()"
   ]
  },
  {
   "cell_type": "markdown",
   "metadata": {},
   "source": [
    "2. Write a function to create a list of results for rolling a fair die with a given number of sides a given number of times, including duplicate values"
   ]
  },
  {
   "cell_type": "code",
   "execution_count": 4,
   "metadata": {},
   "outputs": [],
   "source": [
    "def dice_list(a=1,b=6):\n",
    "    \"\"\"\n",
    "    Return a list of results for rolling a fair die with a given number of sides a given number of times, incluiding duplicate values\n",
    "    \n",
    "    Parameters\n",
    "    ----------\n",
    "    a: int\n",
    "        Number of times to roll the die; integer greater than zero\n",
    "        Default = 1\n",
    "        \n",
    "    b: int\n",
    "        Number of sides of the die; integer greater than zero\n",
    "        Default = 6\n",
    "    \n",
    "    Returns\n",
    "    -------\n",
    "    compound_list: list\n",
    "        List of results for rolling a fair die with a given number of sides a given number of times, incluiding duplicate values\n",
    "    \"\"\"\n",
    "    print('Starting compilation...')\n",
    "    compound_list = []\n",
    "    final_list = []\n",
    "    for _ in range(a):\n",
    "        compound_list.append(dice_values(b))\n",
    "    roll_tuples_list = list(itertools.product(*compound_list))\n",
    "    for x in range(len(roll_tuples_list)):\n",
    "        roll_sum = sum(list(roll_tuples_list[x]))\n",
    "        final_list.append(roll_sum)\n",
    "    final_list.sort()\n",
    "    print('Compilation complete.')\n",
    "    return final_list\n"
   ]
  },
  {
   "cell_type": "code",
   "execution_count": 9,
   "metadata": {},
   "outputs": [
    {
     "name": "stdout",
     "output_type": "stream",
     "text": [
      "Starting calculation...\n",
      "Calculation complete.\n"
     ]
    },
    {
     "data": {
      "image/png": "[encoded data removed]",
      "text/plain": [
       "<Figure size 432x288 with 1 Axes>"
      ]
     },
     "metadata": {
      "needs_background": "light"
     },
     "output_type": "display_data"
    }
   ],
   "source": [
    "roll = dice_list(3,8)\n",
    "\n",
    "sns.countplot(x=roll, color='r')\n",
    "plt.show()\n",
    "\n",
    "# roll = dice_list([(3,8), (1,4), ... ])\n",
    "\n",
    "# dice 1 = 8\n",
    "# dice 1 number = 3\n",
    "\n",
    "# dice 2 = 4\n",
    "# dice 2 number = 1\n",
    "\n",
    "#.\n",
    "#.\n",
    "#.\n",
    "\n",
    "#"
   ]
  },
  {
   "cell_type": "code",
   "execution_count": null,
   "metadata": {},
   "outputs": [],
   "source": []
  },
  {
   "cell_type": "code",
   "execution_count": null,
   "metadata": {},
   "outputs": [],
   "source": []
  }
 ],
 "metadata": {
  "kernelspec": {
   "display_name": "Python 3",
   "language": "python",
   "name": "python3"
  },
  "language_info": {
   "codemirror_mode": {
    "name": "ipython",
    "version": 3
   },
   "file_extension": ".py",
   "mimetype": "text/x-python",
   "name": "python",
   "nbconvert_exporter": "python",
   "pygments_lexer": "ipython3",
   "version": "3.8.5"
  }
 },
 "nbformat": 4,
 "nbformat_minor": 4
}
