{
 "cells": [
  {
   "cell_type": "markdown",
   "metadata": {},
   "source": [
    "# Header"
   ]
  },
  {
   "cell_type": "code",
   "execution_count": 2,
   "metadata": {},
   "outputs": [],
   "source": [
    "# import modules\n",
    "\n",
    "import itertools\n",
    "import numpy as np\n",
    "import pandas as pd\n",
    "import matplotlib.pyplot as plt\n",
    "import seaborn as sns\n",
    "\n",
    "sns.set()\n",
    "%matplotlib inline"
   ]
  },
  {
   "cell_type": "markdown",
   "metadata": {},
   "source": [
    "1. Write a function to create a list of results for rolling a die with a given number of sides"
   ]
  },
  {
   "cell_type": "code",
   "execution_count": 3,
   "metadata": {},
   "outputs": [],
   "source": [
    "def dice_values(a=6):\n",
    "    \"\"\"\n",
    "    Return a list of all results for rolling a die with a given number of sides\n",
    "    \n",
    "    Parameters\n",
    "    ----------\n",
    "    a: int\n",
    "        Number of sides of the die; integer greater than zero\n",
    "        Default = 6\n",
    "    \n",
    "    Returns\n",
    "    -------\n",
    "    result_list: list\n",
    "        List of all possible results for rolling the die\n",
    "    \"\"\"\n",
    "    result_list = []\n",
    "    for x in range(a):\n",
    "        result_list.append(x+1)\n",
    "    return result_list"
   ]
  },
  {
   "cell_type": "code",
   "execution_count": 4,
   "metadata": {},
   "outputs": [
    {
     "data": {
      "text/plain": [
       "[1, 2, 3, 4, 5, 6]"
      ]
     },
     "execution_count": 4,
     "metadata": {},
     "output_type": "execute_result"
    }
   ],
   "source": [
    "dice_values()"
   ]
  },
  {
   "cell_type": "markdown",
   "metadata": {},
   "source": [
    "2. Write a function to create a list of results for rolling a fair die with a given number of sides a given number of times, including duplicate values"
   ]
  },
  {
   "cell_type": "code",
   "execution_count": 5,
   "metadata": {},
   "outputs": [],
   "source": [
    "def dice_list(a=1,b=6):\n",
    "    \"\"\"\n",
    "    Return a list of results for rolling a fair die with a given number of sides a given number of times, incluiding duplicate values\n",
    "    \n",
    "    Parameters\n",
    "    ----------\n",
    "    a: int\n",
    "        Number of times to roll the die; integer greater than zero\n",
    "        Default = 1\n",
    "        \n",
    "    b: int\n",
    "        Number of sides of the die; integer greater than zero\n",
    "        Default = 6\n",
    "    \n",
    "    Returns\n",
    "    -------\n",
    "    compound_list: list\n",
    "        List of results for rolling a fair die with a given number of sides a given number of times, incluiding duplicate values\n",
    "    \"\"\"\n",
    "    print('Starting compilation...')\n",
    "    compound_list = []\n",
    "    final_list = []\n",
    "    for _ in range(a):\n",
    "        compound_list.append(dice_values(b))\n",
    "    roll_tuples_list = list(itertools.product(*compound_list))\n",
    "    for x in range(len(roll_tuples_list)):\n",
    "        roll_sum = sum(list(roll_tuples_list[x]))\n",
    "        final_list.append(roll_sum)\n",
    "    final_list.sort()\n",
    "    print('Compilation complete.')\n",
    "    return final_list\n"
   ]
  },
  {
   "cell_type": "code",
   "execution_count": 5,
   "metadata": {},
   "outputs": [
    {
     "name": "stdout",
     "output_type": "stream",
     "text": [
      "Starting compilation...\n",
      "Compilation complete.\n"
     ]
    },
    {
     "data": {
      "image/png": "[encoded data removed]",
      "text/plain": [
       "<Figure size 432x288 with 1 Axes>"
      ]
     },
     "metadata": {
      "needs_background": "light"
     },
     "output_type": "display_data"
    }
   ],
   "source": [
    "roll = dice_list(3,8)\n",
    "\n",
    "sns.countplot(x=roll, color='r')\n",
    "plt.show()\n",
    "\n",
    "# roll = dice_list([(3,8), (1,4), ... ])\n",
    "\n",
    "# dice 1 = 8\n",
    "# dice 1 number = 3\n",
    "\n",
    "# dice 2 = 4\n",
    "# dice 2 number = 1\n",
    "\n",
    "#.\n",
    "#.\n",
    "#.\n",
    "\n",
    "#"
   ]
  },
  {
   "cell_type": "markdown",
   "metadata": {},
   "source": [
    "3. this is slow for large number of dice. Write an alternative function to 2"
   ]
  },
  {
   "cell_type": "code",
   "execution_count": 6,
   "metadata": {},
   "outputs": [],
   "source": [
    "def dice_list2(a=1,b=6):\n",
    "    \"\"\"Return a list of results for rolling a fair die with a given number of sides a given number of times, incluiding duplicate values\n",
    "    \n",
    "    Parameters\n",
    "    ----------\n",
    "    a: int\n",
    "        Number of times to roll the die; integer greater than zero\n",
    "        Default = 1\n",
    "        \n",
    "    b: int\n",
    "        Number of sides of the die; integer greater than zero\n",
    "        Default = 6\n",
    "    \n",
    "    Returns\n",
    "    -------\n",
    "    compound_list: list\n",
    "        List of results for rolling a fair die with a given number of sides a given number of times, incluiding duplicate values\n",
    "    \"\"\"\n",
    "    print('Starting compilation...')\n",
    "    one_roll = dice_values(b)\n",
    "    tuples_list = itertools.product(one_roll, repeat=a)\n",
    "    final_list = list(map(lambda x: sum(x), tuples_list))\n",
    "    final_list.sort()\n",
    "    print('Compilation complete.')\n",
    "    return final_list\n",
    "    "
   ]
  },
  {
   "cell_type": "code",
   "execution_count": 8,
   "metadata": {},
   "outputs": [
    {
     "name": "stdout",
     "output_type": "stream",
     "text": [
      "Starting compilation...\n",
      "Compilation complete.\n"
     ]
    },
    {
     "data": {
      "image/png": "[encoded data removed]",
      "text/plain": [
       "<Figure size 432x288 with 1 Axes>"
      ]
     },
     "metadata": {
      "needs_background": "light"
     },
     "output_type": "display_data"
    }
   ],
   "source": [
    "roll = dice_list2(10,6)\n",
    "\n",
    "sns.countplot(x=roll, color='r')\n",
    "plt.show()"
   ]
  },
  {
   "cell_type": "markdown",
   "metadata": {},
   "source": [
    "4. This is nicer code but still slow for large numbers of dice. Maybe the list object is too large? Try generating instead a 2D summary array of results and their counts by iterating over the map object instead of holding the full list in memory"
   ]
  },
  {
   "cell_type": "code",
   "execution_count": 10,
   "metadata": {},
   "outputs": [],
   "source": [
    "def dice_list3(a=1,b=6):\n",
    "    \"\"\"Return a list of results for rolling a fair die with a given number of sides a given number of times, incluiding duplicate values\n",
    "    \n",
    "    Parameters\n",
    "    ----------\n",
    "    a: int\n",
    "        Number of times to roll the die; integer greater than zero\n",
    "        Default = 1\n",
    "        \n",
    "    b: int\n",
    "        Number of sides of the die; integer greater than zero\n",
    "        Default = 6\n",
    "    \n",
    "    Returns\n",
    "    -------\n",
    "    final_dict: dictionary\n",
    "        Results for rolling a fair die with a given number of sides a given number of times, incluiding duplicate values\n",
    "    \"\"\"\n",
    "    print('Starting compilation...')\n",
    "    one_roll = dice_values(b)\n",
    "    tuples_list = itertools.product(one_roll, repeat=a)\n",
    "    result_map = map(lambda x: sum(x), tuples_list)\n",
    "    \n",
    "    #code is quick up to here ^\n",
    "      \n",
    "    #testing speed of unpacking map into int instead of list\n",
    "    #this is no faster than unpacking map into list\n",
    "    #values_sum = 0\n",
    "    #values_len = 0\n",
    "    #for y in result_map:\n",
    "    #    values_sum = values_sum + y\n",
    "    #    values_len += 1\n",
    "    #values_mean = values_sum / values_len\n",
    "    \n",
    "    #below: code for turning mapping into dictionary of value:count\n",
    "    \n",
    "    results_list = []\n",
    "    for x in range(a, b * a + 1):\n",
    "        results_list.append(x)\n",
    "    \n",
    "    #code for identifying halfway point of values list, rounded up\n",
    "    #min_value = a\n",
    "    #max_value = a * b\n",
    "    #half_round_up = -(-len(results_list) // 2)  \n",
    "    \n",
    "    counts_list = list(np.zeros((b * a) - a + 1, dtype='int'))\n",
    "           \n",
    "    for y in result_map:\n",
    "        counts_list[y-a] += 1\n",
    "    \n",
    "    final_dict = dict(zip(results_list, counts_list))\n",
    "        \n",
    "    print('Compilation complete.')\n",
    "    return final_dict"
   ]
  },
  {
   "cell_type": "code",
   "execution_count": 10,
   "metadata": {},
   "outputs": [
    {
     "name": "stdout",
     "output_type": "stream",
     "text": [
      "Starting compilation...\n",
      "Compilation complete.\n",
      "[]\n"
     ]
    }
   ],
   "source": []
  },
  {
   "cell_type": "code",
   "execution_count": 11,
   "metadata": {},
   "outputs": [
    {
     "name": "stdout",
     "output_type": "stream",
     "text": [
      "Starting compilation...\n",
      "Compilation complete.\n"
     ]
    },
    {
     "data": {
      "text/plain": [
       "{10: 1,\n",
       " 11: 10,\n",
       " 12: 55,\n",
       " 13: 220,\n",
       " 14: 715,\n",
       " 15: 2002,\n",
       " 16: 4995,\n",
       " 17: 11340,\n",
       " 18: 23760,\n",
       " 19: 46420,\n",
       " 20: 85228,\n",
       " 21: 147940,\n",
       " 22: 243925,\n",
       " 23: 383470,\n",
       " 24: 576565,\n",
       " 25: 831204,\n",
       " 26: 1151370,\n",
       " 27: 1535040,\n",
       " 28: 1972630,\n",
       " 29: 2446300,\n",
       " 30: 2930455,\n",
       " 31: 3393610,\n",
       " 32: 3801535,\n",
       " 33: 4121260,\n",
       " 34: 4325310,\n",
       " 35: 4395456,\n",
       " 36: 4325310,\n",
       " 37: 4121260,\n",
       " 38: 3801535,\n",
       " 39: 3393610,\n",
       " 40: 2930455,\n",
       " 41: 2446300,\n",
       " 42: 1972630,\n",
       " 43: 1535040,\n",
       " 44: 1151370,\n",
       " 45: 831204,\n",
       " 46: 576565,\n",
       " 47: 383470,\n",
       " 48: 243925,\n",
       " 49: 147940,\n",
       " 50: 85228,\n",
       " 51: 46420,\n",
       " 52: 23760,\n",
       " 53: 11340,\n",
       " 54: 4995,\n",
       " 55: 2002,\n",
       " 56: 715,\n",
       " 57: 220,\n",
       " 58: 55,\n",
       " 59: 10,\n",
       " 60: 1}"
      ]
     },
     "execution_count": 11,
     "metadata": {},
     "output_type": "execute_result"
    }
   ],
   "source": [
    "dice_list3(10,6)\n",
    "\n",
    "#idea: calculate only first half, then flip to generate second half!\n",
    "# https://stackoverflow.com/questions/2356501/how-do-you-round-up-a-number-in-python"
   ]
  },
  {
   "cell_type": "code",
   "execution_count": 13,
   "metadata": {},
   "outputs": [
    {
     "name": "stdout",
     "output_type": "stream",
     "text": [
      "Starting compilation...\n",
      "Compilation complete.\n"
     ]
    },
    {
     "ename": "ZeroDivisionError",
     "evalue": "division by zero",
     "output_type": "error",
     "traceback": [
      "\u001b[1;31m---------------------------------------------------------------------------\u001b[0m",
      "\u001b[1;31mZeroDivisionError\u001b[0m                         Traceback (most recent call last)",
      "\u001b[1;32m<ipython-input-13-fc5020cf1faa>\u001b[0m in \u001b[0;36m<module>\u001b[1;34m\u001b[0m\n\u001b[0;32m      7\u001b[0m     \u001b[0mvalues_len\u001b[0m \u001b[1;33m+=\u001b[0m \u001b[1;36m1\u001b[0m\u001b[1;33m\u001b[0m\u001b[1;33m\u001b[0m\u001b[0m\n\u001b[0;32m      8\u001b[0m \u001b[1;33m\u001b[0m\u001b[0m\n\u001b[1;32m----> 9\u001b[1;33m \u001b[0mprint\u001b[0m\u001b[1;33m(\u001b[0m\u001b[0mvalues_sum\u001b[0m \u001b[1;33m/\u001b[0m \u001b[0mvalues_len\u001b[0m\u001b[1;33m)\u001b[0m\u001b[1;33m\u001b[0m\u001b[1;33m\u001b[0m\u001b[0m\n\u001b[0m",
      "\u001b[1;31mZeroDivisionError\u001b[0m: division by zero"
     ]
    }
   ],
   "source": []
  },
  {
   "cell_type": "code",
   "execution_count": null,
   "metadata": {},
   "outputs": [],
   "source": []
  }
 ],
 "metadata": {
  "kernelspec": {
   "display_name": "Python 3",
   "language": "python",
   "name": "python3"
  },
  "language_info": {
   "codemirror_mode": {
    "name": "ipython",
    "version": 3
   },
   "file_extension": ".py",
   "mimetype": "text/x-python",
   "name": "python",
   "nbconvert_exporter": "python",
   "pygments_lexer": "ipython3",
   "version": "3.8.5"
  }
 },
 "nbformat": 4,
 "nbformat_minor": 4
}
